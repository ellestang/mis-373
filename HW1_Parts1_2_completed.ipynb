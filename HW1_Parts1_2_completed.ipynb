{
 "cells": [
  {
   "cell_type": "markdown",
   "metadata": {},
   "source": [
    "PROGRAM 1: ROCK, PAPER, SCISSORS \n",
    "For this program, we prompt the user to enter one of three plays, or quit,  generate an opposing play from the computer based on the user's play history if possible, and then calculate the result of the game. To do so, we created the following functions:\n",
    "\n",
    "comp_play(dic) -  takes input of a dictionary containing the opposing user's play history to generate a play from the computer that takes into account any bias the opposing player has exibited\n",
    "\n",
    "user_play() -  prompts the user to enter a play, and validates input\n",
    "\n",
    "play_game(comp, user)  -  takes the user and computers' plays as inputs and figures out the result of the game\n",
    "\n",
    "add_play(dic, x)  -  tabulates each user play in a dictionary to keep track of frequency of the user's plays"
   ]
  },
  {
   "cell_type": "code",
   "execution_count": 1,
   "metadata": {
    "collapsed": false
   },
   "outputs": [],
   "source": [
    "#create and assign constant variables for each possible play\n",
    "q = \"Quit\"\n",
    "r = \"Rock\"\n",
    "p = \"Paper\"\n",
    "s = \"Scissors\"\n",
    "\n",
    "#create dictionary to keep track of each play user makes, initialize with 0\n",
    "play_counts = {r: 0, p: 0, s: 0}\n",
    "\n",
    "#variables to keep track of how many wins the user has, and total plays\n",
    "user_wins = 0\n",
    "total_plays = 0\n"
   ]
  },
  {
   "cell_type": "code",
   "execution_count": 2,
   "metadata": {
    "collapsed": false
   },
   "outputs": [],
   "source": [
    "def user_play():\n",
    "    \"\"\"Prompts user to enter input ('Rock', 'Paper', 'Scissors' or 'Quit), validates input, and returns valid input\"\"\"\n",
    "\n",
    "    x = raw_input(\"Please enter 'Rock', 'Paper', 'Scissors' or 'Quit': \")\n",
    "    while x != q and x != r and x != p and x != s:\n",
    "        print(\"Invalid entry.\\n\")\n",
    "        x = raw_input(\"Please enter 'Rock', 'Paper', 'Scissors' or 'Quit': \")\n",
    "    return x\n",
    "\n"
   ]
  },
  {
   "cell_type": "code",
   "execution_count": 3,
   "metadata": {
    "collapsed": false
   },
   "outputs": [],
   "source": [
    "def add_play(dic, x):\n",
    "    \"\"\"add_play function keeps track of user play frequencies.\n",
    "    Takes two inputs; 1. a dictionary of user's past plays and corresponding frequencies, 2. the value of user's current play. Function then adds one instance of current play to the dictionary.\"\"\"\n",
    "    dic[x] += 1\n",
    "    \n",
    "\n"
   ]
  },
  {
   "cell_type": "code",
   "execution_count": 4,
   "metadata": {
    "collapsed": false
   },
   "outputs": [],
   "source": [
    "import random\n",
    "def comp_play(dic):\n",
    "    \"\"\"comp_play generates a play from the computer, taking into account opposing user's past plays\n",
    "    Takes dictionary of user's play history as input, returns value for computer's play.\"\"\"\n",
    "    \n",
    "    #create empty list for potential computer play choices\n",
    "    comps_plays = []\n",
    "    \n",
    "    #using dictionary of user plays & frequencies, creates list of user's most used plays\n",
    "    users_plays = [k for k, v in dic.iteritems() if v == max(dic.values())]\n",
    "    \n",
    "    #loops through list of user's most used plays, and for each compute dominant opposing play and add to list of possible computer plays\n",
    "    for val in users_plays:\n",
    "        if val == r:\n",
    "            comps_plays.append(p)\n",
    "        elif val == s:\n",
    "            comps_plays.append(r)\n",
    "        else:\n",
    "            comps_plays.append(s)\n",
    "    \n",
    "    #from list of possible dominant computer plays, choose play randomly\n",
    "    x = random.choice(comps_plays) \n",
    "    \n",
    "    #return the chosen play\n",
    "    return x\n"
   ]
  },
  {
   "cell_type": "code",
   "execution_count": 5,
   "metadata": {
    "collapsed": false
   },
   "outputs": [],
   "source": [
    "def play_game(comp, user):\n",
    "    \"\"\"play_game takes two inputs, the computer's play and the user's play, calculates result of game, and returns result. \"\"\"\n",
    "    if user == r:\n",
    "        if comp == s:\n",
    "            status = \"You Win\"\n",
    "        elif comp == p:\n",
    "            status = \"You Lose\"\n",
    "        else:\n",
    "            status = \"Tie Game\"\n",
    "        \n",
    "    elif user == p:\n",
    "        \n",
    "        if comp == r:\n",
    "            status = \"You Win\"\n",
    "        elif comp == s:\n",
    "            status = \"You Lose\"\n",
    "        else:\n",
    "            status = \"Tie Game\"\n",
    "            \n",
    "    else: \n",
    "        \n",
    "        if comp == p:\n",
    "            status = \"You Win\"\n",
    "        elif comp == r:\n",
    "            status = \"You Lose\" \n",
    "        else:\n",
    "            status = \"Tie Game\"\n",
    "            \n",
    "    return status\n"
   ]
  },
  {
   "cell_type": "markdown",
   "metadata": {},
   "source": [
    "SAMPLE RUN OF CODE\n",
    "Here, we run the program. Until the user enters \"Quit\", game is played with computer keeping track of each play the user makes. Total user wins and total games played are tabulated. "
   ]
  },
  {
   "cell_type": "code",
   "execution_count": 6,
   "metadata": {
    "collapsed": false
   },
   "outputs": [
    {
     "name": "stdout",
     "output_type": "stream",
     "text": [
      "Please enter 'Rock', 'Paper', 'Scissors' or 'Quit': Rock\n",
      "You Win\n",
      "Please enter 'Rock', 'Paper', 'Scissors' or 'Quit': Paper\n",
      "Tie Game\n",
      "Please enter 'Rock', 'Paper', 'Scissors' or 'Quit': Paper\n",
      "Tie Game\n",
      "Please enter 'Rock', 'Paper', 'Scissors' or 'Quit': Paper\n",
      "You Lose\n",
      "Please enter 'Rock', 'Paper', 'Scissors' or 'Quit': Paper\n",
      "You Lose\n",
      "Please enter 'Rock', 'Paper', 'Scissors' or 'Quit': Scissors\n",
      "Tie Game\n",
      "Please enter 'Rock', 'Paper', 'Scissors' or 'Quit': Rock\n",
      "You Win\n",
      "Please enter 'Rock', 'Paper', 'Scissors' or 'Quit': Paper\n",
      "You Lose\n",
      "Please enter 'Rock', 'Paper', 'Scissors' or 'Quit': Scissors\n",
      "Tie Game\n",
      "Please enter 'Rock', 'Paper', 'Scissors' or 'Quit': Scissors\n",
      "Tie Game\n",
      "Please enter 'Rock', 'Paper', 'Scissors' or 'Quit': Paper\n",
      "You Lose\n",
      "Please enter 'Rock', 'Paper', 'Scissors' or 'Quit': Rock\n",
      "You Win\n",
      "Please enter 'Rock', 'Paper', 'Scissors' or 'Quit': Quit\n",
      "\n",
      "You won 3 out of 12 games\n",
      "Thank You for Playing.\n"
     ]
    }
   ],
   "source": [
    "c = comp_play(play_counts)\n",
    "u = user_play()\n",
    "\n",
    "#run until user enters \"Quit\"\n",
    "while u != q:\n",
    "    result = play_game(c, u)\n",
    "    total_plays += 1\n",
    "    if result == \"You Win\":\n",
    "        user_wins += 1\n",
    "    add_play(play_counts, u)\n",
    "    print(result)\n",
    "    c = comp_play(play_counts)\n",
    "    #after game is played, prompt user again\n",
    "    u = user_play()\n",
    "\n",
    "#print game summary information to user\n",
    "message = '\\nYou won {} out of {} games'.format(user_wins, total_plays)\n",
    "print(message)\n",
    "print(\"Thank You for Playing.\")\n"
   ]
  },
  {
   "cell_type": "markdown",
   "metadata": {
    "collapsed": true
   },
   "source": [
    "END OF PROGRAM 1"
   ]
  },
  {
   "cell_type": "markdown",
   "metadata": {},
   "source": [
    "PROGRAM 2: MOVIES\n",
    "\n",
    "For this program, we first process the movies.csv file to create a dictionary of actors (represented by keys), and set of movies that each actor appears in (values of dictionary). We then prompt the user to enter 2 movie names, validate the input, and print the required summary information. To do so, we created the following functions:"
   ]
  },
  {
   "cell_type": "code",
   "execution_count": 6,
   "metadata": {
    "collapsed": false
   },
   "outputs": [
    {
     "name": "stdout",
     "output_type": "stream",
     "text": [
      "Resulting dictionary created from processed file:\n",
      "{'Ben Affleck': set(['', 'Good Will Hunting', 'Pearl Harbor', 'Bounce']), 'Tom Cruise': set(['A Few Good Men', '', 'Mission Impossible', 'Top Gun', 'Jerry Maguire']), 'Jim Carrey': set(['', 'Ace Ventura', 'Bruce Almighty', 'Me-Myself & Irene', 'The Mask']), 'Salma Hayek': set(['', 'Wild Wild West', 'Desperado']), 'Kate Winslet': set(['', 'Finding Neverland', 'Titanic']), 'Russell Crowe': set(['A Beautiful Mind', '', 'American Gangster', 'Gladiator', 'Cinderella Man']), 'Bruce Willis': set(['The Sixth Sense', 'Die Hard', 'The Siege', '', 'Pulp Fiction']), 'Sylvester Stallone': set(['', 'Assassins', 'Rambo', 'Rocky']), 'Angelina Jolie': set(['', 'Lara Croft Tomb Raider', 'Mr & Mrs Smith', 'Bone Collector']), 'Matt Damon': set(['', 'Good Will Hunting', 'Bourne Identity', 'Bourne Ultimatum', 'The Departed']), 'Leonardo Di Caprio': set(['', 'Blood Diamond', 'Catch Me If You Can', 'Titanic', 'The Departed']), 'Will Smith': set(['Men in Black', '', 'Pursuit of Happyness', 'Wild Wild West', 'Hitch']), 'Meg Ryan': set(['', 'You have got mail', 'Sleepless in Seattle']), 'Julia Roberts': set(['', 'Pretty Woman', 'Runaway Bride', 'Oceans Eleven']), 'Julianne Moore': set(['', 'Hannibal', 'Assassins']), 'Kevin Bacon': set(['A Few Good Men', '', 'Sleepers']), 'Morgan Freeman': set(['', 'Seven', 'Bruce Almighty', 'Bone Collector', 'Million Dollar Baby']), 'George Clooney': set(['', 'Intolerable Cruelty', 'Oceans Eleven']), 'Anthony Hopkins': set(['The Edge', 'Meet Joe Black', 'Hannibal', '', 'Proof']), 'Denzel Washington': set(['', 'The Siege', 'American Gangster', 'Bone Collector']), 'Tom Hanks': set(['', 'You have got mail', 'Catch Me If You Can', 'Apollo 13', 'Sleepless in Seattle']), 'Renee Zellweger': set(['', 'Cinderella Man', 'Me-Myself & Irene', 'Jerry Maguire']), 'Johnny Depp': set(['', 'Finding Neverland', 'Edward Scissorhands', 'The Pirates of Caribbean']), 'Gwyneth Paltrow': set(['', 'Bounce', 'Shakespeare in Love', 'Proof']), 'Antonio Banderas': set(['', 'Desperado', 'The Mask of Zorro']), 'Diane Kruger': set(['', 'Troy', 'National Treasure']), 'Brad Pitt': set(['Seven', 'Sleepers', 'Mr & Mrs Smith', 'Troy', 'Meet Joe Black', 'Oceans Eleven']), 'Catherine Zeta Jones': set(['', 'Intolerable Cruelty', 'The Mask of Zorro']), 'Alec Baldwin': set(['The Edge', '', 'Pearl Harbor']), 'Dustin Hoffman': set(['', 'Sleepers', 'The Lost City'])} \n",
      "\n"
     ]
    }
   ],
   "source": [
    "import csv\n",
    "def process_file(filename):\n",
    "    \"\"\"Function to process input file into a dictionary.\n",
    "    Takes csv file as input, processes data in file row by row into a new dictionary consisting of keys representing each actor, and corresponding set of all movies actor appears in.\n",
    "    Returns dictionary of actors and corresponding movies. \"\"\"\n",
    "    \n",
    "    file_data = open(filename)\n",
    "    processed_file = csv.reader(file_data)\n",
    "    data_dic = {}\n",
    "    for row in processed_file:\n",
    "        data_values = set(row[1:])\n",
    "        data_dic[row[0]] = data_values\n",
    "    return data_dic\n",
    "\n",
    "#example input and output of file, using 'movies.csv'\n",
    "output_dic = process_file('movies.csv')\n",
    "print \"Resulting dictionary created from processed file:\\n\", output_dic, \"\\n\""
   ]
  },
  {
   "cell_type": "code",
   "execution_count": 8,
   "metadata": {
    "collapsed": true
   },
   "outputs": [],
   "source": [
    "def ask_user(dic):\n",
    "    \"\"\"Taking dictionary of actors and corresponding movies as input, prompts user to enter 2 movies from list of choces, validates inputs, and returns 2 valid answers.\"\"\"\n",
    "    \n",
    "    #create set of movies from dictionary input, display to user\n",
    "    choices = set([])\n",
    "    for key in dic:\n",
    "        choices.update(dic[key])\n",
    "    print list(choices), \"\\n\"\n",
    "    \n",
    "    #prompt user for 2 inputs based on list printed, validate\n",
    "    x = raw_input(\"Enter a movie from choices listed: \")\n",
    "    while x not in choices:\n",
    "        print \"Invalid input.\"\n",
    "        x = raw_input(\"Enter a movie from choices listed: \")\n",
    "        \n",
    "    y = raw_input(\"Enter another movie: \")\n",
    "    while y not in choices:\n",
    "        print \"Invalid input.\"\n",
    "        y = raw_input(\"Enter another movie: \")\n",
    "        \n",
    "    #return inputs\n",
    "    return x, y"
   ]
  },
  {
   "cell_type": "code",
   "execution_count": 7,
   "metadata": {
    "collapsed": false
   },
   "outputs": [],
   "source": [
    "def both_movies(x, y, dic):\n",
    "    \"\"\"Takes 2 strings, movie choices 1 & 2, along with actor-movie dictionary as inputs.\n",
    "    Returns list of all actors who appear in both movie 1 and 2.\"\"\"\n",
    "    \n",
    "    actors = []\n",
    "    empty = \" \"\n",
    "    for key in dic:\n",
    "        if x in dic[key] and y in dic[key]:\n",
    "            actors.append(key)\n",
    "    \n",
    "    return actors\n"
   ]
  },
  {
   "cell_type": "code",
   "execution_count": 8,
   "metadata": {
    "collapsed": false
   },
   "outputs": [],
   "source": [
    "# function that returns a set of actors only in Movie 1, and another of actors only in Movie 2\n",
    "def actors_in_x(x, y, dic):\n",
    "    \"\"\"Takes 2 strings, movie choices 1 & 2, along with actor-movie dictionary as inputs.\n",
    "    Returns a) a list of actors who appear only in movie 1, and b) a list of actors who appear only in movie 2. \"\"\"\n",
    "    \n",
    "    actors_x = set()\n",
    "    actors_y = set()\n",
    "\n",
    "    for key in dic:\n",
    "        if x in dic[key]:\n",
    "            actors_x.add(key)\n",
    "        if y in dic[key]:\n",
    "            actors_y.add(key)\n",
    "    \n",
    "    actors_only_x = actors_x.difference(actors_y)\n",
    "    actors_only_y  = actors_y.difference(actors_x)\n",
    "    \n",
    "    return actors_only_x, actors_only_y\n"
   ]
  },
  {
   "cell_type": "markdown",
   "metadata": {},
   "source": [
    "Example run of entire code:"
   ]
  },
  {
   "cell_type": "code",
   "execution_count": 12,
   "metadata": {
    "collapsed": false
   },
   "outputs": [
    {
     "name": "stdout",
     "output_type": "stream",
     "text": [
      "['', 'The Siege', 'Pursuit of Happyness', 'Me-Myself & Irene', 'Cinderella Man', 'A Beautiful Mind', 'Good Will Hunting', 'Sleepless in Seattle', 'Desperado', 'You have got mail', 'The Lost City', 'Bounce', 'Meet Joe Black', 'Oceans Eleven', 'Pulp Fiction', 'Mission Impossible', 'Die Hard', 'Finding Neverland', 'Troy', 'The Pirates of Caribbean', 'Blood Diamond', 'Pretty Woman', 'Sleepers', 'Pearl Harbor', 'Assassins', 'Bourne Identity', 'Rocky', 'A Few Good Men', 'Bruce Almighty', 'Ace Ventura', 'National Treasure', 'Titanic', 'Million Dollar Baby', 'Lara Croft Tomb Raider', 'Bone Collector', 'The Mask', 'Intolerable Cruelty', 'Hannibal', 'Bourne Ultimatum', 'Runaway Bride', 'Proof', 'Men in Black', 'Seven', 'Rambo', 'Jerry Maguire', 'Apollo 13', 'The Sixth Sense', 'Catch Me If You Can', 'Top Gun', 'Mr & Mrs Smith', 'The Departed', 'Hitch', 'The Edge', 'American Gangster', 'Edward Scissorhands', 'Shakespeare in Love', 'The Mask of Zorro', 'Wild Wild West', 'Gladiator'] \n",
      "\n",
      "Enter a movie from choices listed: Sleepless in Seattle\n",
      "Enter another movie: You have got mail\n",
      "\n",
      "All actors who appear in both movies:  ['Meg Ryan', 'Tom Hanks']\n",
      "Actors who appear only in Movie 1:  []\n",
      "Actors who appear only in Movie 2:  []\n"
     ]
    }
   ],
   "source": [
    "#process file into dictionary\n",
    "actor_movie_dic = process_file('movies.csv')\n",
    "\n",
    "#prompt user to enter 2 movies\n",
    "mov_1, mov_2 = ask_user(actor_movie_dic)\n",
    "\n",
    "#run analysis functions on chosen movies\n",
    "both_movs = both_movies(mov_1, mov_2, actor_movie_dic)\n",
    "mov1_only, mov2_only = actors_in_x(mov_1, mov_2, actor_movie_dic)\n",
    "\n",
    "#print requested information\n",
    "print \"\\nAll actors who appear in both movies: \", both_movs\n",
    "print \"Actors who appear only in Movie 1: \", list(mov1_only)\n",
    "print \"Actors who appear only in Movie 2: \", list(mov2_only)"
   ]
  },
  {
   "cell_type": "markdown",
   "metadata": {},
   "source": [
    "END OF PROGRAM 2"
   ]
  },
  {
   "cell_type": "code",
   "execution_count": null,
   "metadata": {
    "collapsed": true
   },
   "outputs": [],
   "source": []
  }
 ],
 "metadata": {
  "anaconda-cloud": {},
  "kernelspec": {
   "display_name": "Python [conda root]",
   "language": "python",
   "name": "conda-root-py"
  },
  "language_info": {
   "codemirror_mode": {
    "name": "ipython",
    "version": 2
   },
   "file_extension": ".py",
   "mimetype": "text/x-python",
   "name": "python",
   "nbconvert_exporter": "python",
   "pygments_lexer": "ipython2",
   "version": "2.7.12"
  }
 },
 "nbformat": 4,
 "nbformat_minor": 1
}
