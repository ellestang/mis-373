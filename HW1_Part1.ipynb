{
 "cells": [
  {
   "cell_type": "markdown",
   "metadata": {},
   "source": [
    "1. Rock, Paper, Scissors"
   ]
  },
  {
   "cell_type": "markdown",
   "metadata": {
    "collapsed": true
   },
   "source": [
    "First, we create variables for each possible play, and a dictionary to keep track of the frequency of each play user makes"
   ]
  },
  {
   "cell_type": "code",
   "execution_count": null,
   "metadata": {
    "collapsed": false
   },
   "outputs": [],
   "source": [
    "#create and assign variables for each possible play\n",
    "q = \"Quit\"\n",
    "r = \"Rock\"\n",
    "p = \"Paper\"\n",
    "s = \"Scissors\"\n",
    "\n",
    "#create dictionary to keep track of each play user makes, initialize with 0\n",
    "play_counts = {r: 0, p: 0, s: 0}\n",
    "user_wins = 0\n",
    "total_plays = 0\n"
   ]
  },
  {
   "cell_type": "code",
   "execution_count": null,
   "metadata": {
    "collapsed": false
   },
   "outputs": [],
   "source": [
    "#function to generate play from computer taking into account user play bias\n",
    "import random\n",
    "def comp_play(dic):\n",
    "    #create empty list for potential computer play choices\n",
    "    comps_plays = []\n",
    "    \n",
    "    #using dictionary of user plays & frequencies, creates list of user's most used plays\n",
    "    users_plays = [k for k, v in dic.iteritems() if v == max(dic.values())]\n",
    "    \n",
    "    #loops through list of user's most used plays, and for each compute dominant opposing play and add to list of possible computer plays\n",
    "    for val in users_plays:\n",
    "        if val == r:\n",
    "            comps_plays.append(p)\n",
    "        elif val == s:\n",
    "            comps_plays.append(r)\n",
    "        else:\n",
    "            comps_plays.append(s)\n",
    "    \n",
    "    #from list of possible dominant computer plays, choose play randomly\n",
    "    #print(\"User's most frequent plays \", users_plays)\n",
    "    #print(\"Comp's opposing plays \", comps_plays)\n",
    "    x = random.choice(comps_plays) \n",
    "    return x\n"
   ]
  },
  {
   "cell_type": "markdown",
   "metadata": {},
   "source": [
    "The User is prompted to enter a play or to quit. "
   ]
  },
  {
   "cell_type": "code",
   "execution_count": null,
   "metadata": {
    "collapsed": false
   },
   "outputs": [],
   "source": [
    "#function to get input from user and validate\n",
    "def user_play():\n",
    "    x = raw_input(\"Please enter 'Rock', 'Paper', 'Scissors' or 'Quit': \")\n",
    "    while x != q and x != r and x != p and x != s:\n",
    "        print(\"Invalid entry.\")\n",
    "        x = raw_input(\"Please enter 'Rock', 'Paper', 'Scissors' or 'Quit': \")\n",
    "    return x\n"
   ]
  },
  {
   "cell_type": "code",
   "execution_count": null,
   "metadata": {
    "collapsed": true
   },
   "outputs": [],
   "source": [
    "#function to compute and return result of game\n",
    "def play_game(comp, user):\n",
    "\n",
    "    if user == r:\n",
    "        if comp == s:\n",
    "            status = \"You Win\"\n",
    "        elif comp == p:\n",
    "            status = \"You Lose\"\n",
    "        else:\n",
    "            status = \"Tie Game\"\n",
    "        \n",
    "    elif user == p:\n",
    "        \n",
    "        if comp == r:\n",
    "            status = \"You Win\"\n",
    "        elif comp == s:\n",
    "            status = \"You Lose\"\n",
    "        else:\n",
    "            status = \"Tie Game\"\n",
    "            \n",
    "    else: \n",
    "        \n",
    "        if comp == p:\n",
    "            status = \"You Win\"\n",
    "        elif comp == r:\n",
    "            status = \"You Lose\" \n",
    "        else:\n",
    "            status = \"Tie Game\"\n",
    "            \n",
    "    return status\n",
    "            "
   ]
  },
  {
   "cell_type": "code",
   "execution_count": null,
   "metadata": {
    "collapsed": true
   },
   "outputs": [],
   "source": [
    "#function to keep track of user play frequencies\n",
    "def add_play(dic, x):\n",
    "    dic[x] += 1\n",
    "    "
   ]
  },
  {
   "cell_type": "markdown",
   "metadata": {},
   "source": [
    "Here, we run the program. Until the user enters \"Quit\", game is played with computer keeping track of each play the user makes. Total user wins and total games played are tabulated. "
   ]
  },
  {
   "cell_type": "code",
   "execution_count": null,
   "metadata": {
    "collapsed": false
   },
   "outputs": [],
   "source": [
    "c = comp_play(play_counts)\n",
    "u = user_play()\n",
    "\n",
    "while u != q:\n",
    "    result = play_game(c, u)\n",
    "    total_plays += 1\n",
    "    if result == \"You Win\":\n",
    "        user_wins += 1\n",
    "    add_play(play_counts, u)\n",
    "    print(result)\n",
    "    c = comp_play(play_counts)\n",
    "    u = user_play()\n",
    "\n",
    "#print game summary information to user\n",
    "string2 = \"\\nYou won \" + str(user_wins) + \" out of \" + str(total_plays) + \" games.\"\n",
    "print(string2)\n",
    "print(\"Thank You for Playing.\")\n",
    "print(play_counts) "
   ]
  },
  {
   "cell_type": "code",
   "execution_count": null,
   "metadata": {
    "collapsed": true
   },
   "outputs": [],
   "source": []
  }
 ],
 "metadata": {
  "anaconda-cloud": {},
  "kernelspec": {
   "display_name": "Python [conda root]",
   "language": "python",
   "name": "conda-root-py"
  },
  "language_info": {
   "codemirror_mode": {
    "name": "ipython",
    "version": 2
   },
   "file_extension": ".py",
   "mimetype": "text/x-python",
   "name": "python",
   "nbconvert_exporter": "python",
   "pygments_lexer": "ipython2",
   "version": "2.7.12"
  }
 },
 "nbformat": 4,
 "nbformat_minor": 1
}
