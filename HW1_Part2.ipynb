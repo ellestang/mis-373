{
 "cells": [
  {
   "cell_type": "markdown",
   "metadata": {},
   "source": [
    "First, we will process the movies.csv file to create a dictionary in which each key represents and actor, and corresponding values are represented by a set of movies that the actor appears in.  "
   ]
  },
  {
   "cell_type": "code",
   "execution_count": 1,
   "metadata": {
    "collapsed": false
   },
   "outputs": [
    {
     "name": "stdout",
     "output_type": "stream",
     "text": [
      "{'Ben Affleck': set(['Good Will Hunting', 'Pearl Harbor', 'Bounce']), 'Tom Cruise': set(['A Few Good Men', 'Mission Impossible', 'Top Gun', 'Jerry Maguire']), 'Jim Carrey': set(['Ace Ventura', 'Bruce Almighty', 'Me-Myself & Irene', 'The Mask']), 'Salma Hayek': set(['Wild Wild West', 'Desperado']), 'Kate Winslet': set(['Finding Neverland', 'Titanic']), 'Russell Crowe': set(['A Beautiful Mind', 'American Gangster', 'Gladiator', 'Cinderella Man']), 'Bruce Willis': set(['The Sixth Sense', 'Die Hard', 'The Siege', 'Pulp Fiction']), 'Sylvester Stallone': set(['Assassins', 'Rambo', 'Rocky']), 'Angelina Jolie': set(['Lara Croft Tomb Raider', 'Mr & Mrs Smith', 'Bone Collector']), 'Matt Damon': set(['Good Will Hunting', 'Bourne Identity', 'Bourne Ultimatum', 'The Departed']), 'Leonardo Di Caprio': set(['Blood Diamond', 'Catch Me If You Can', 'Titanic', 'The Departed']), 'Will Smith': set(['Men in Black', 'Pursuit of Happyness', 'Wild Wild West', 'Hitch']), 'Meg Ryan': set(['You have got mail', 'Sleepless in Seattle']), 'Julia Roberts': set(['Pretty Woman', 'Runaway Bride', 'Oceans Eleven']), 'Julianne Moore': set(['Hannibal', 'Assassins']), 'Kevin Bacon': set(['A Few Good Men', 'Sleepers']), 'Morgan Freeman': set(['Seven', 'Bruce Almighty', 'Bone Collector', 'Million Dollar Baby']), 'George Clooney': set(['Intolerable Cruelty', 'Oceans Eleven']), 'Anthony Hopkins': set(['The Edge', 'Meet Joe Black', 'Hannibal', 'Proof']), 'Denzel Washington': set(['The Siege', 'American Gangster', 'Bone Collector']), 'Tom Hanks': set(['You have got mail', 'Catch Me If You Can', 'Apollo 13', 'Sleepless in Seattle']), 'Renee Zellweger': set(['Cinderella Man', 'Me-Myself & Irene', 'Jerry Maguire']), 'Johnny Depp': set(['Finding Neverland', 'Edward Scissorhands', 'The Pirates of Caribbean']), 'Gwyneth Paltrow': set(['Bounce', 'Shakespeare in Love', 'Proof']), 'Antonio Banderas': set(['Desperado', 'The Mask of Zorro']), 'Diane Kruger': set(['Troy', 'National Treasure']), 'Brad Pitt': set(['Seven', 'Sleepers', 'Mr & Mrs Smith', 'Troy', 'Meet Joe Black', 'Oceans Eleven']), 'Catherine Zeta Jones': set(['Intolerable Cruelty', 'The Mask of Zorro']), 'Alec Baldwin': set(['The Edge', 'Pearl Harbor']), 'Dustin Hoffman': set(['Sleepers', 'The Lost City'])}\n"
     ]
    }
   ],
   "source": [
    "import csv\n",
    "\n",
    "mov_data = open('movies.csv')\n",
    "csv_mov_data = csv.reader(mov_data)\n",
    "\n",
    "actor_dic = {}\n",
    "\n",
    "for row in csv_mov_data:\n",
    "    movies_set = set(row[1:])\n",
    "    actor_dic[row[0]] = movies_set\n",
    "\n",
    "#here you can see resulting dictionary\n",
    "print actor_dic\n",
    "    "
   ]
  },
  {
   "cell_type": "markdown",
   "metadata": {},
   "source": [
    "Create function that asks user to enter a movie, validates movie name, and returns movie name string\n",
    "\n",
    "HOW DOES HE WANT US TO VALIDATE THE INPUT?"
   ]
  },
  {
   "cell_type": "code",
   "execution_count": null,
   "metadata": {
    "collapsed": true
   },
   "outputs": [],
   "source": [
    "def ask_user(x):\n",
    "    mov = raw_input(\"Enter movie \", x, \": \")\n",
    "    return mov"
   ]
  },
  {
   "cell_type": "raw",
   "metadata": {},
   "source": [
    "Create a function which returns a list of all actors in BOTH movies"
   ]
  },
  {
   "cell_type": "code",
   "execution_count": null,
   "metadata": {
    "collapsed": true
   },
   "outputs": [],
   "source": [
    "def both_movies(x, y, dic):\n",
    "    actors = []\n",
    "    for key in dic:\n",
    "        if x in dic[key] and y in dic[key]:\n",
    "            actors.append(key)\n",
    "    return actors\n",
    "\n",
    "#example_list_both_movies = both_movies('Pearl Harbor', 'Bounce', actor_dic)\n",
    "\n",
    "#print example_list_both_movies"
   ]
  },
  {
   "cell_type": "markdown",
   "metadata": {},
   "source": [
    "Create a function that returns a set of actors only in Movie 1, and another of actors only in Movie 2"
   ]
  },
  {
   "cell_type": "code",
   "execution_count": null,
   "metadata": {
    "collapsed": false
   },
   "outputs": [],
   "source": [
    "def actors_in_x(x, y, dic):\n",
    "    actors_x = set()\n",
    "    actors_y = set()\n",
    "\n",
    "    for key in dic:\n",
    "        if x in dic[key]:\n",
    "            actors_x.add(key)\n",
    "        if y in dic[key]:\n",
    "            actors_y.add(key)\n",
    "    \n",
    "    actors_only_x = actors_x.difference(actors_y)\n",
    "    actors_only_y  = actors_y.difference(actors_x)\n",
    "    return actors_only_x, actors_only_y\n",
    "\n",
    "ex_only_movie1, ex_only_movie2 = actors_in_x('Pearl Harbor', 'Bounce', actor_dic)\n",
    "\n",
    "print \"Actors only in Movie 1\" \n",
    "print ex_only_movie1\n",
    "print \"Actors only in Movie 2\" \n",
    "print ex_only_movie2"
   ]
  },
  {
   "cell_type": "markdown",
   "metadata": {},
   "source": [
    "Here we can probably do an example of the entire code running through with the user being asked to enter a movie. "
   ]
  },
  {
   "cell_type": "code",
   "execution_count": null,
   "metadata": {
    "collapsed": true
   },
   "outputs": [],
   "source": []
  }
 ],
 "metadata": {
  "anaconda-cloud": {},
  "kernelspec": {
   "display_name": "Python [conda root]",
   "language": "python",
   "name": "conda-root-py"
  },
  "language_info": {
   "codemirror_mode": {
    "name": "ipython",
    "version": 2
   },
   "file_extension": ".py",
   "mimetype": "text/x-python",
   "name": "python",
   "nbconvert_exporter": "python",
   "pygments_lexer": "ipython2",
   "version": "2.7.12"
  }
 },
 "nbformat": 4,
 "nbformat_minor": 1
}
